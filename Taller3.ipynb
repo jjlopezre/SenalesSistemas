{
  "nbformat": 4,
  "nbformat_minor": 0,
  "metadata": {
    "colab": {
      "name": "Taller3",
      "provenance": [],
      "collapsed_sections": [],
      "authorship_tag": "ABX9TyP90wb1ryi7no/w2xQWfa2c",
      "include_colab_link": true
    },
    "kernelspec": {
      "name": "python3",
      "display_name": "Python 3"
    }
  },
  "cells": [
    {
      "cell_type": "markdown",
      "metadata": {
        "id": "view-in-github",
        "colab_type": "text"
      },
      "source": [
        "<a href=\"https://colab.research.google.com/github/jjlopezre/SenalesSistemas/blob/master/Taller3.ipynb\" target=\"_parent\"><img src=\"https://colab.research.google.com/assets/colab-badge.svg\" alt=\"Open In Colab\"/></a>"
      ]
    },
    {
      "cell_type": "markdown",
      "metadata": {
        "id": "42ofQvKyytAZ",
        "colab_type": "text"
      },
      "source": [
        "#Taller 3 Señales y Sistemas\n",
        "Juan José López Rendón 817533"
      ]
    },
    {
      "cell_type": "markdown",
      "metadata": {
        "id": "bFeHPuKXy7Ym",
        "colab_type": "text"
      },
      "source": [
        "#2. Modelado y simulación de sistemas en el tiempo\n",
        "2.1 Respuesta al impulso y respuesta al escalón."
      ]
    },
    {
      "cell_type": "code",
      "metadata": {
        "id": "XtnEusI1VLlX",
        "colab_type": "code",
        "colab": {
          "base_uri": "https://localhost:8080/",
          "height": 38
        },
        "outputId": "5ba6f05b-8d7d-47c8-d14f-89c8b6f67005"
      },
      "source": [
        "%matplotlib inline\n",
        "import sympy as sym\n",
        "sym.init_printing()\n",
        "\n",
        "t = sym.symbols('t', real=True)\n",
        "x = sym.Function('x')(t)\n",
        "y = sym.Function('y')(t)\n",
        "\n",
        "ode = sym.Eq(y + y.diff(t) , x)\n",
        "ode"
      ],
      "execution_count": null,
      "outputs": [
        {
          "output_type": "execute_result",
          "data": {
            "image/png": "[encoded data removed]",
            "text/latex": "$$y{\\left (t \\right )} + \\frac{d}{d t} y{\\left (t \\right )} = x{\\left (t \\right )}$$",
            "text/plain": [
              "       d              \n",
              "y(t) + ──(y(t)) = x(t)\n",
              "       dt             "
            ]
          },
          "metadata": {
            "tags": []
          },
          "execution_count": 2
        }
      ]
    },
    {
      "cell_type": "code",
      "metadata": {
        "id": "jW8eW4m2VSQ6",
        "colab_type": "code",
        "colab": {
          "base_uri": "https://localhost:8080/",
          "height": 38
        },
        "outputId": "a8326fce-a1c6-48ec-abe6-752f7867cade"
      },
      "source": [
        "solution = sym.dsolve(ode.subs(x, sym.exp(-2*t)*sym.Heaviside(t)))\n",
        "integration_constants = sym.solve( (solution.rhs.limit(t, 0, '-'), solution.rhs.diff(t).limit(t, 0, '-')), 'C1' )\n",
        "y1 = solution.subs(integration_constants)\n",
        "y1"
      ],
      "execution_count": null,
      "outputs": [
        {
          "output_type": "execute_result",
          "data": {
            "image/png": "[encoded data removed]",
            "text/latex": "$$y{\\left (t \\right )} = \\left(1 - e^{- t}\\right) e^{- t} \\theta\\left(t\\right)$$",
            "text/plain": [
              "       ⎛     -t⎞  -t             \n",
              "y(t) = ⎝1 - ℯ  ⎠⋅ℯ  ⋅Heaviside(t)"
            ]
          },
          "metadata": {
            "tags": []
          },
          "execution_count": 3
        }
      ]
    },
    {
      "cell_type": "code",
      "metadata": {
        "id": "GLgKB3w5VVWv",
        "colab_type": "code",
        "colab": {
          "base_uri": "https://localhost:8080/",
          "height": 391
        },
        "outputId": "587a7d84-f46c-4085-8dff-9a0403c37265"
      },
      "source": [
        "sym.plot(y1.rhs, (t,-1,10), ylabel=r'$y(t)$');\n"
      ],
      "execution_count": null,
      "outputs": [
        {
          "output_type": "stream",
          "text": [
            "/usr/local/lib/python3.6/dist-packages/sympy/plotting/plot.py:890: MatplotlibDeprecationWarning: \n",
            "The set_smart_bounds function was deprecated in Matplotlib 3.2 and will be removed two minor releases later.\n",
            "  self.ax.spines['left'].set_smart_bounds(True)\n",
            "/usr/local/lib/python3.6/dist-packages/sympy/plotting/plot.py:891: MatplotlibDeprecationWarning: \n",
            "The set_smart_bounds function was deprecated in Matplotlib 3.2 and will be removed two minor releases later.\n",
            "  self.ax.spines['bottom'].set_smart_bounds(False)\n"
          ],
          "name": "stderr"
        },
        {
          "output_type": "display_data",
          "data": {
            "image/png": "[encoded data removed]",
            "text/plain": [
              "<Figure size 432x288 with 1 Axes>"
            ]
          },
          "metadata": {
            "tags": [],
            "needs_background": "light"
          }
        }
      ]
    },
    {
      "cell_type": "code",
      "metadata": {
        "id": "JQ823FRCVXsY",
        "colab_type": "code",
        "colab": {
          "base_uri": "https://localhost:8080/",
          "height": 38
        },
        "outputId": "7bb3708f-dc36-4685-e6cf-50aad78d39f3"
      },
      "source": [
        "h = sym.Function('h')(t)\n",
        "solution2 = sym.dsolve(ode.subs(x, sym.DiracDelta(t)).subs(y, h))\n",
        "integration_constants = sym.solve( (solution2.rhs.limit(t, 0, '-'), solution2.rhs.diff(t).limit(t, 0, '-')), 'C1' )\n",
        "h = solution2.subs(integration_constants)\n",
        "h\n"
      ],
      "execution_count": null,
      "outputs": [
        {
          "output_type": "execute_result",
          "data": {
            "image/png": "[encoded data removed]",
            "text/latex": "$$h{\\left (t \\right )} = e^{- t} \\theta\\left(t\\right)$$",
            "text/plain": [
              "        -t             \n",
              "h(t) = ℯ  ⋅Heaviside(t)"
            ]
          },
          "metadata": {
            "tags": []
          },
          "execution_count": 5
        }
      ]
    },
    {
      "cell_type": "code",
      "metadata": {
        "id": "_KWIC-liVaV4",
        "colab_type": "code",
        "colab": {
          "base_uri": "https://localhost:8080/",
          "height": 391
        },
        "outputId": "f2006e64-4d43-4893-8270-300ac688e298"
      },
      "source": [
        "sym.plot(h.rhs, (t,-1,10), ylabel=r'$h(t)$');"
      ],
      "execution_count": null,
      "outputs": [
        {
          "output_type": "stream",
          "text": [
            "/usr/local/lib/python3.6/dist-packages/sympy/plotting/plot.py:890: MatplotlibDeprecationWarning: \n",
            "The set_smart_bounds function was deprecated in Matplotlib 3.2 and will be removed two minor releases later.\n",
            "  self.ax.spines['left'].set_smart_bounds(True)\n",
            "/usr/local/lib/python3.6/dist-packages/sympy/plotting/plot.py:891: MatplotlibDeprecationWarning: \n",
            "The set_smart_bounds function was deprecated in Matplotlib 3.2 and will be removed two minor releases later.\n",
            "  self.ax.spines['bottom'].set_smart_bounds(False)\n"
          ],
          "name": "stderr"
        },
        {
          "output_type": "display_data",
          "data": {
            "image/png": "[encoded data removed]",
            "text/plain": [
              "<Figure size 432x288 with 1 Axes>"
            ]
          },
          "metadata": {
            "tags": [],
            "needs_background": "light"
          }
        }
      ]
    },
    {
      "cell_type": "code",
      "metadata": {
        "id": "lGfpnSgsVd7v",
        "colab_type": "code",
        "colab": {
          "base_uri": "https://localhost:8080/",
          "height": 38
        },
        "outputId": "f815f397-ab66-45bb-82d4-cfe21e45f7c0"
      },
      "source": [
        "tau = sym.symbols('tau', real=True)\n",
        "y2 = sym.integrate(sym.exp(-2*tau) * h.rhs.subs(sym.Heaviside(t),1).subs(t,t-tau), (tau, 0, t))\n",
        "y2"
      ],
      "execution_count": null,
      "outputs": [
        {
          "output_type": "execute_result",
          "data": {
            "image/png": "[encoded data removed]",
            "text/latex": "$$e^{- t} - e^{- 2 t}$$",
            "text/plain": [
              " -t    -2⋅t\n",
              "ℯ   - ℯ    "
            ]
          },
          "metadata": {
            "tags": []
          },
          "execution_count": 7
        }
      ]
    },
    {
      "cell_type": "code",
      "metadata": {
        "id": "NijFiNr0Vh4Q",
        "colab_type": "code",
        "colab": {
          "base_uri": "https://localhost:8080/",
          "height": 663
        },
        "outputId": "a448f1ac-2dda-4fe6-eae0-166980a3992d"
      },
      "source": [
        "sym.plot(y2, (t,0,10), ylabel=r'$y(t)$');\n",
        "sym.plot(y1.rhs, (t,-1,10), ylabel=r'$y(t)$');"
      ],
      "execution_count": null,
      "outputs": [
        {
          "output_type": "stream",
          "text": [
            "/usr/local/lib/python3.6/dist-packages/sympy/plotting/plot.py:890: MatplotlibDeprecationWarning: \n",
            "The set_smart_bounds function was deprecated in Matplotlib 3.2 and will be removed two minor releases later.\n",
            "  self.ax.spines['left'].set_smart_bounds(True)\n",
            "/usr/local/lib/python3.6/dist-packages/sympy/plotting/plot.py:891: MatplotlibDeprecationWarning: \n",
            "The set_smart_bounds function was deprecated in Matplotlib 3.2 and will be removed two minor releases later.\n",
            "  self.ax.spines['bottom'].set_smart_bounds(False)\n"
          ],
          "name": "stderr"
        },
        {
          "output_type": "display_data",
          "data": {
            "image/png": "[encoded data removed]",
            "text/plain": [
              "<Figure size 432x288 with 1 Axes>"
            ]
          },
          "metadata": {
            "tags": [],
            "needs_background": "light"
          }
        },
        {
          "output_type": "display_data",
          "data": {
            "image/png": "[encoded data removed]",
            "text/plain": [
              "<Figure size 432x288 with 1 Axes>"
            ]
          },
          "metadata": {
            "tags": [],
            "needs_background": "light"
          }
        }
      ]
    },
    {
      "cell_type": "markdown",
      "metadata": {
        "id": "kqX8Mysz0YV5",
        "colab_type": "text"
      },
      "source": [
        "#2.3 Red eléctrica y péndulo"
      ]
    },
    {
      "cell_type": "code",
      "metadata": {
        "id": "ctLfx9L5Vqc6",
        "colab_type": "code",
        "colab": {
          "base_uri": "https://localhost:8080/",
          "height": 42
        },
        "outputId": "476da730-8867-4d8b-ff9b-016aff4cfb24"
      },
      "source": [
        "%matplotlib inline\n",
        "import sympy as sym\n",
        "sym.init_printing()\n",
        "\n",
        "t, s, a0, a1, a2 = sym.symbols('t s a:3')\n",
        "x = sym.exp(s * t)\n",
        "y = sym.Function('y')(t)\n",
        "\n",
        "ode = sym.Eq(a0*y + a1*y.diff(t) + a2*y.diff(t,2), x)\n",
        "solution = sym.dsolve(ode)\n",
        "solution.subs({'C1': 0, 'C2' : 0})\n",
        "\n"
      ],
      "execution_count": null,
      "outputs": [
        {
          "output_type": "execute_result",
          "data": {
            "image/png": "[encoded data removed]",
            "text/latex": "$$y{\\left (t \\right )} = \\frac{e^{s t}}{a_{0} + a_{1} s + a_{2} s^{2}}$$",
            "text/plain": [
              "               s⋅t      \n",
              "              ℯ         \n",
              "y(t) = ─────────────────\n",
              "                       2\n",
              "       a₀ + a₁⋅s + a₂⋅s "
            ]
          },
          "metadata": {
            "tags": []
          },
          "execution_count": 9
        }
      ]
    },
    {
      "cell_type": "code",
      "metadata": {
        "id": "u_HNw_uc4qCr",
        "colab_type": "code",
        "colab": {
          "base_uri": "https://localhost:8080/",
          "height": 40
        },
        "outputId": "c4c80485-fa0d-4a97-eb0e-3fea6d0153b7"
      },
      "source": [
        "%matplotlib inline\n",
        "import sympy as sym\n",
        "sym.init_printing()\n",
        "t, m, c, k = sym.symbols('t m c k', real=True)\n",
        "x = sym.Function('x')(t)\n",
        "y = sym.Function('y')(t)\n",
        "\n",
        "ode = sym.Eq(m*y.diff(t, 2) + c*y.diff(t) + k*y, x)\n",
        "ode"
      ],
      "execution_count": null,
      "outputs": [
        {
          "output_type": "execute_result",
          "data": {
            "image/png": "[encoded data removed]",
            "text/latex": "$$c \\frac{d}{d t} y{\\left (t \\right )} + k y{\\left (t \\right )} + m \\frac{d^{2}}{d t^{2}}  y{\\left (t \\right )} = x{\\left (t \\right )}$$",
            "text/plain": [
              "                          2             \n",
              "  d                      d              \n",
              "c⋅──(y(t)) + k⋅y(t) + m⋅───(y(t)) = x(t)\n",
              "  dt                      2             \n",
              "                        dt              "
            ]
          },
          "metadata": {
            "tags": []
          },
          "execution_count": 10
        }
      ]
    },
    {
      "cell_type": "code",
      "metadata": {
        "id": "7rkyoK0xRsRn",
        "colab_type": "code",
        "colab": {
          "base_uri": "https://localhost:8080/",
          "height": 38
        },
        "outputId": "c06b4513-e6ec-4d8f-e289-a3bc15e0f1a9"
      },
      "source": [
        "mck = {m: 0.1, c: sym.Rational('.5'), k: sym.Rational('2.5')}\n",
        "mck"
      ],
      "execution_count": null,
      "outputs": [
        {
          "output_type": "execute_result",
          "data": {
            "image/png": "[encoded data removed]",
            "text/latex": "$$\\left \\{ c : \\frac{1}{2}, \\quad k : \\frac{5}{2}, \\quad m : 0.1\\right \\}$$",
            "text/plain": [
              "{c: 1/2, k: 5/2, m: 0.1}"
            ]
          },
          "metadata": {
            "tags": []
          },
          "execution_count": 11
        }
      ]
    },
    {
      "cell_type": "code",
      "metadata": {
        "id": "xWAgqZoiRwIV",
        "colab_type": "code",
        "colab": {
          "base_uri": "https://localhost:8080/",
          "height": 45
        },
        "outputId": "b9c370bc-b059-4ed5-a08c-c5e8302f8a9e"
      },
      "source": [
        "solution_h = sym.dsolve(ode.subs(x, sym.DiracDelta(t)).subs(y, sym.Function('h')(t)))\n",
        "solution_h"
      ],
      "execution_count": null,
      "outputs": [
        {
          "output_type": "execute_result",
          "data": {
            "image/png": "[encoded data removed]",
            "text/latex": "$$h{\\left (t \\right )} = C_{1} e^{\\frac{t}{2 m} \\left(- c - \\sqrt{c^{2} - 4 k m}\\right)} + C_{2} e^{\\frac{t}{2 m} \\left(- c + \\sqrt{c^{2} - 4 k m}\\right)} - \\frac{\\theta\\left(t\\right)}{\\sqrt{c^{2} - 4 k m}} e^{\\frac{t}{2 m} \\left(- c - \\sqrt{c^{2} - 4 k m}\\right)} + \\frac{\\theta\\left(t\\right)}{\\sqrt{c^{2} - 4 k m}} e^{\\frac{t}{2 m} \\left(- c + \\sqrt{c^{2} - 4 k m}\\right)}$$",
            "text/plain": [
              "                                                                        ⎛     \n",
              "             ⎛        ____________⎞         ⎛        ____________⎞      ⎜     \n",
              "             ⎜       ╱  2         ⎟         ⎜       ╱  2         ⎟    t⋅⎝-c - \n",
              "           t⋅⎝-c - ╲╱  c  - 4⋅k⋅m ⎠       t⋅⎝-c + ╲╱  c  - 4⋅k⋅m ⎠    ────────\n",
              "           ────────────────────────       ────────────────────────            \n",
              "                     2⋅m                            2⋅m              ℯ        \n",
              "h(t) = C₁⋅ℯ                         + C₂⋅ℯ                         - ─────────\n",
              "                                                                              \n",
              "                                                                              \n",
              "                                                                              \n",
              "\n",
              "   ____________⎞                   ⎛        ____________⎞             \n",
              "  ╱  2         ⎟                   ⎜       ╱  2         ⎟             \n",
              "╲╱  c  - 4⋅k⋅m ⎠                 t⋅⎝-c + ╲╱  c  - 4⋅k⋅m ⎠             \n",
              "────────────────                 ────────────────────────             \n",
              "  2⋅m                                      2⋅m                        \n",
              "                ⋅Heaviside(t)   ℯ                        ⋅Heaviside(t)\n",
              "───────────────────────────── + ──────────────────────────────────────\n",
              "     ____________                             ____________            \n",
              "    ╱  2                                     ╱  2                     \n",
              "  ╲╱  c  - 4⋅k⋅m                           ╲╱  c  - 4⋅k⋅m             "
            ]
          },
          "metadata": {
            "tags": []
          },
          "execution_count": 12
        }
      ]
    },
    {
      "cell_type": "code",
      "metadata": {
        "id": "oFQg32wtRyz9",
        "colab_type": "code",
        "colab": {
          "base_uri": "https://localhost:8080/",
          "height": 38
        },
        "outputId": "f9e5c949-0d29-4b55-9b53-1feb39d4cb31"
      },
      "source": [
        "integration_constants = sym.solve( (solution_h.rhs.limit(t, 0, '-'), solution_h.rhs.diff(t).limit(t, 0, '-')), ['C1', 'C2'] )\n",
        "integration_constants"
      ],
      "execution_count": null,
      "outputs": [
        {
          "output_type": "execute_result",
          "data": {
            "image/png": "[encoded data removed]",
            "text/latex": "$$\\left \\{ C_{1} : 0, \\quad C_{2} : 0\\right \\}$$",
            "text/plain": [
              "{C₁: 0, C₂: 0}"
            ]
          },
          "metadata": {
            "tags": []
          },
          "execution_count": 13
        }
      ]
    },
    {
      "cell_type": "code",
      "metadata": {
        "id": "gvt3E6sLR2gt",
        "colab_type": "code",
        "colab": {
          "base_uri": "https://localhost:8080/",
          "height": 45
        },
        "outputId": "107855fc-1018-4953-c5cc-db122d6472cb"
      },
      "source": [
        "h = solution_h.subs(integration_constants)\n",
        "h"
      ],
      "execution_count": null,
      "outputs": [
        {
          "output_type": "execute_result",
          "data": {
            "image/png": "[encoded data removed]",
            "text/latex": "$$h{\\left (t \\right )} = - \\frac{\\theta\\left(t\\right)}{\\sqrt{c^{2} - 4 k m}} e^{\\frac{t}{2 m} \\left(- c - \\sqrt{c^{2} - 4 k m}\\right)} + \\frac{\\theta\\left(t\\right)}{\\sqrt{c^{2} - 4 k m}} e^{\\frac{t}{2 m} \\left(- c + \\sqrt{c^{2} - 4 k m}\\right)}$$",
            "text/plain": [
              "            ⎛        ____________⎞                   ⎛        ____________⎞   \n",
              "            ⎜       ╱  2         ⎟                   ⎜       ╱  2         ⎟   \n",
              "          t⋅⎝-c - ╲╱  c  - 4⋅k⋅m ⎠                 t⋅⎝-c + ╲╱  c  - 4⋅k⋅m ⎠   \n",
              "          ────────────────────────                 ────────────────────────   \n",
              "                    2⋅m                                      2⋅m              \n",
              "         ℯ                        ⋅Heaviside(t)   ℯ                        ⋅He\n",
              "h(t) = - ────────────────────────────────────── + ────────────────────────────\n",
              "                       ____________                             ____________  \n",
              "                      ╱  2                                     ╱  2           \n",
              "                    ╲╱  c  - 4⋅k⋅m                           ╲╱  c  - 4⋅k⋅m   \n",
              "\n",
              "          \n",
              "          \n",
              "          \n",
              "          \n",
              "          \n",
              "aviside(t)\n",
              "──────────\n",
              "          \n",
              "          \n",
              "          "
            ]
          },
          "metadata": {
            "tags": []
          },
          "execution_count": 14
        }
      ]
    },
    {
      "cell_type": "code",
      "metadata": {
        "id": "ZNLB0lpdR4nn",
        "colab_type": "code",
        "colab": {
          "base_uri": "https://localhost:8080/",
          "height": 390
        },
        "outputId": "efbc3967-6571-492f-f743-11378f233afa"
      },
      "source": [
        "sym.plot(h.rhs.subs(mck), (t,0,12), ylabel=r'h(t)');"
      ],
      "execution_count": null,
      "outputs": [
        {
          "output_type": "stream",
          "text": [
            "/usr/local/lib/python3.6/dist-packages/sympy/plotting/plot.py:890: MatplotlibDeprecationWarning: \n",
            "The set_smart_bounds function was deprecated in Matplotlib 3.2 and will be removed two minor releases later.\n",
            "  self.ax.spines['left'].set_smart_bounds(True)\n",
            "/usr/local/lib/python3.6/dist-packages/sympy/plotting/plot.py:891: MatplotlibDeprecationWarning: \n",
            "The set_smart_bounds function was deprecated in Matplotlib 3.2 and will be removed two minor releases later.\n",
            "  self.ax.spines['bottom'].set_smart_bounds(False)\n"
          ],
          "name": "stderr"
        },
        {
          "output_type": "display_data",
          "data": {
            "image/png": "[encoded data removed]",
            "text/plain": [
              "<Figure size 432x288 with 1 Axes>"
            ]
          },
          "metadata": {
            "tags": [],
            "needs_background": "light"
          }
        }
      ]
    },
    {
      "cell_type": "code",
      "metadata": {
        "id": "d9LUIFlGR8kI",
        "colab_type": "code",
        "colab": {
          "base_uri": "https://localhost:8080/",
          "height": 39
        },
        "outputId": "0eaff20f-8e35-49d8-b820-53253ff2e868"
      },
      "source": [
        "s = sym.symbols('s')\n",
        "H = sym.Function('H')(s)\n",
        "\n",
        "H, = sym.solve(ode.subs(x, sym.exp(s*t)).subs(y, H*sym.exp(s*t)).doit(), H)\n",
        "H"
      ],
      "execution_count": null,
      "outputs": [
        {
          "output_type": "execute_result",
          "data": {
            "image/png": "[encoded data removed]",
            "text/latex": "$$\\frac{1}{c s + k + m s^{2}}$$",
            "text/plain": [
              "      1       \n",
              "──────────────\n",
              "             2\n",
              "c⋅s + k + m⋅s "
            ]
          },
          "metadata": {
            "tags": []
          },
          "execution_count": 16
        }
      ]
    },
    {
      "cell_type": "code",
      "metadata": {
        "id": "vrLg_XItR_2e",
        "colab_type": "code",
        "colab": {
          "base_uri": "https://localhost:8080/",
          "height": 39
        },
        "outputId": "0a8cc6b6-6da6-4eea-8dea-694abd3a1bd8"
      },
      "source": [
        "w = sym.symbols('omega', real=True)\n",
        "\n",
        "Hjw = H.subs(s, sym.I * w)\n",
        "Hjw"
      ],
      "execution_count": null,
      "outputs": [
        {
          "output_type": "execute_result",
          "data": {
            "image/png": "[encoded data removed]",
            "text/latex": "$$\\frac{1}{i c \\omega + k - m \\omega^{2}}$$",
            "text/plain": [
              "       1        \n",
              "────────────────\n",
              "               2\n",
              "ⅈ⋅c⋅ω + k - m⋅ω "
            ]
          },
          "metadata": {
            "tags": []
          },
          "execution_count": 17
        }
      ]
    },
    {
      "cell_type": "code",
      "metadata": {
        "id": "VzB7ZC9lSCH2",
        "colab_type": "code",
        "colab": {
          "base_uri": "https://localhost:8080/",
          "height": 398
        },
        "outputId": "2767cab1-48fe-4d4a-86de-15bd430f0aff"
      },
      "source": [
        "sym.plot(abs(Hjw.subs(mck)), (w, -15, 15), ylabel=r'$|H(j \\omega)|$', xlabel=r'$\\omega$');"
      ],
      "execution_count": null,
      "outputs": [
        {
          "output_type": "stream",
          "text": [
            "/usr/local/lib/python3.6/dist-packages/sympy/plotting/plot.py:890: MatplotlibDeprecationWarning: \n",
            "The set_smart_bounds function was deprecated in Matplotlib 3.2 and will be removed two minor releases later.\n",
            "  self.ax.spines['left'].set_smart_bounds(True)\n",
            "/usr/local/lib/python3.6/dist-packages/sympy/plotting/plot.py:891: MatplotlibDeprecationWarning: \n",
            "The set_smart_bounds function was deprecated in Matplotlib 3.2 and will be removed two minor releases later.\n",
            "  self.ax.spines['bottom'].set_smart_bounds(False)\n"
          ],
          "name": "stderr"
        },
        {
          "output_type": "display_data",
          "data": {
            "image/png": "[encoded data removed]",
            "text/plain": [
              "<Figure size 432x288 with 1 Axes>"
            ]
          },
          "metadata": {
            "tags": [],
            "needs_background": "light"
          }
        }
      ]
    },
    {
      "cell_type": "code",
      "metadata": {
        "id": "po_vqYhQSEZH",
        "colab_type": "code",
        "colab": {
          "base_uri": "https://localhost:8080/",
          "height": 58
        },
        "outputId": "354f4c62-0728-40fc-dd00-833554c967f1"
      },
      "source": [
        "extrema = sym.solve(sym.Eq(sym.diff(abs(Hjw), w),0),w)\n",
        "extrema"
      ],
      "execution_count": null,
      "outputs": [
        {
          "output_type": "execute_result",
          "data": {
            "image/png": "[encoded data removed]",
            "text/latex": "$$\\left [ 0, \\quad - \\frac{1}{m} \\sqrt{- \\frac{c^{2}}{2} + k m}, \\quad \\frac{1}{m} \\sqrt{- \\frac{c^{2}}{2} + k m}, \\quad - \\frac{1}{2 \\left|{m}\\right|} \\sqrt{- 2 c^{2} + 4 k m + \\tilde{\\infty} \\left|{m}\\right|}, \\quad \\frac{1}{2 \\left|{m}\\right|} \\sqrt{- 2 c^{2} + 4 k m + 2 \\tilde{\\infty} \\left|{m}\\right|}\\right ]$$",
            "text/plain": [
              "⎡         ____________        ____________                                    \n",
              "⎢        ╱    2              ╱    2                                           \n",
              "⎢       ╱    c              ╱    c              __________________________    \n",
              "⎢   -  ╱   - ── + k⋅m      ╱   - ── + k⋅m      ╱      2                       \n",
              "⎢    ╲╱      2           ╲╱      2          -╲╱  - 2⋅c  + 4⋅k⋅m + zoo⋅│m│    ╲\n",
              "⎢0, ───────────────────, ─────────────────, ───────────────────────────────, ─\n",
              "⎣            m                   m                       2⋅│m│                \n",
              "\n",
              "                              ⎤\n",
              "                              ⎥\n",
              "  ____________________________⎥\n",
              " ╱      2                     ⎥\n",
              "╱  - 2⋅c  + 4⋅k⋅m + 2⋅zoo⋅│m│ ⎥\n",
              "──────────────────────────────⎥\n",
              "            2⋅│m│             ⎦"
            ]
          },
          "metadata": {
            "tags": []
          },
          "execution_count": 19
        }
      ]
    },
    {
      "cell_type": "code",
      "metadata": {
        "id": "9YkDq851SGnO",
        "colab_type": "code",
        "colab": {
          "base_uri": "https://localhost:8080/",
          "height": 58
        },
        "outputId": "567ce556-660c-4711-f178-00a9f70a3a20"
      },
      "source": [
        "\n",
        "w0 = extrema[1:3]\n",
        "w0"
      ],
      "execution_count": null,
      "outputs": [
        {
          "output_type": "execute_result",
          "data": {
            "image/png": "[encoded data removed]",
            "text/latex": "$$\\left [ - \\frac{1}{m} \\sqrt{- \\frac{c^{2}}{2} + k m}, \\quad \\frac{1}{m} \\sqrt{- \\frac{c^{2}}{2} + k m}\\right ]$$",
            "text/plain": [
              "⎡      ____________        ____________⎤\n",
              "⎢     ╱    2              ╱    2       ⎥\n",
              "⎢    ╱    c              ╱    c        ⎥\n",
              "⎢-  ╱   - ── + k⋅m      ╱   - ── + k⋅m ⎥\n",
              "⎢ ╲╱      2           ╲╱      2        ⎥\n",
              "⎢───────────────────, ─────────────────⎥\n",
              "⎣         m                   m        ⎦"
            ]
          },
          "metadata": {
            "tags": []
          },
          "execution_count": 20
        }
      ]
    },
    {
      "cell_type": "code",
      "metadata": {
        "id": "lYGVtB72SOn1",
        "colab_type": "code",
        "colab": {
          "base_uri": "https://localhost:8080/",
          "height": 37
        },
        "outputId": "cbe5de40-ea17-4268-a828-ba14b5e4c57c"
      },
      "source": [
        "\n",
        "[w00.subs(mck) for w00 in w0]"
      ],
      "execution_count": null,
      "outputs": [
        {
          "output_type": "execute_result",
          "data": {
            "image/png": "[encoded data removed]",
            "text/latex": "$$\\left [ -3.53553390593274, \\quad 3.53553390593274\\right ]$$",
            "text/plain": [
              "[-3.53553390593274, 3.53553390593274]"
            ]
          },
          "metadata": {
            "tags": []
          },
          "execution_count": 21
        }
      ]
    },
    {
      "cell_type": "code",
      "metadata": {
        "id": "KyE3G83GSPOX",
        "colab_type": "code",
        "colab": {
          "base_uri": "https://localhost:8080/",
          "height": 395
        },
        "outputId": "d6435cd0-0459-4ba9-e294-f1916b102e86"
      },
      "source": [
        "phi = sym.arg(Hjw)\n",
        "sym.plot(phi.subs(mck), (w, -15, 15), ylabel=r'$\\varphi(j \\omega)$', xlabel=r'$\\omega$');"
      ],
      "execution_count": null,
      "outputs": [
        {
          "output_type": "stream",
          "text": [
            "/usr/local/lib/python3.6/dist-packages/sympy/plotting/plot.py:890: MatplotlibDeprecationWarning: \n",
            "The set_smart_bounds function was deprecated in Matplotlib 3.2 and will be removed two minor releases later.\n",
            "  self.ax.spines['left'].set_smart_bounds(True)\n",
            "/usr/local/lib/python3.6/dist-packages/sympy/plotting/plot.py:891: MatplotlibDeprecationWarning: \n",
            "The set_smart_bounds function was deprecated in Matplotlib 3.2 and will be removed two minor releases later.\n",
            "  self.ax.spines['bottom'].set_smart_bounds(False)\n"
          ],
          "name": "stderr"
        },
        {
          "output_type": "display_data",
          "data": {
            "image/png": "[encoded data removed]",
            "text/plain": [
              "<Figure size 432x288 with 1 Axes>"
            ]
          },
          "metadata": {
            "tags": [],
            "needs_background": "light"
          }
        }
      ]
    },
    {
      "cell_type": "markdown",
      "metadata": {
        "id": "D0DGixim_2eL",
        "colab_type": "text"
      },
      "source": [
        "#Pendulo "
      ]
    },
    {
      "cell_type": "code",
      "metadata": {
        "id": "j_hmYithSrth",
        "colab_type": "code",
        "colab": {
          "base_uri": "https://localhost:8080/",
          "height": 39
        },
        "outputId": "b40cb713-5dc6-4690-ae69-214e6fbb2382"
      },
      "source": [
        "%matplotlib inline\n",
        "import sympy as sym\n",
        "sym.init_printing()\n",
        "\n",
        "t, m, c, k = sym.symbols('t m c k', real=True)\n",
        "x = sym.Function('x')(t)\n",
        "y = sym.Function('y')(t)\n",
        "\n",
        "ode = sym.Eq(m*y.diff(t, 2) + c*y.diff(t) + k*y, x)\n",
        "ode\n",
        "s = sym.symbols('s')\n",
        "H = sym.Function('H')(s)\n",
        "H, = sym.solve(ode.subs(x, sym.exp(s*t)).subs(y, H*sym.exp(s*t)).doit(), H)\n",
        "w = sym.symbols('omega', real=True)\n",
        "Hjw = H.subs(s, sym.I * w)\n",
        "Hjw\n"
      ],
      "execution_count": null,
      "outputs": [
        {
          "output_type": "execute_result",
          "data": {
            "image/png": "[encoded data removed]",
            "text/latex": "$$\\frac{1}{i c \\omega + k - m \\omega^{2}}$$",
            "text/plain": [
              "       1        \n",
              "────────────────\n",
              "               2\n",
              "ⅈ⋅c⋅ω + k - m⋅ω "
            ]
          },
          "metadata": {
            "tags": []
          },
          "execution_count": 4
        }
      ]
    },
    {
      "cell_type": "code",
      "metadata": {
        "id": "XLDKQ2Aq_3XQ",
        "colab_type": "code",
        "colab": {
          "base_uri": "https://localhost:8080/",
          "height": 310
        },
        "outputId": "88cc4eff-0317-4a2c-e7fb-97d4875de96d"
      },
      "source": [
        "sym.plot(abs(Hjw.subs(mck)), (w, -15, 15), ylabel=r'$|H(j \\omega)|$', xlabel=r'$\\omega$');"
      ],
      "execution_count": null,
      "outputs": [
        {
          "output_type": "display_data",
          "data": {
            "image/png": "[encoded data removed]",
            "text/plain": [
              "<Figure size 432x288 with 1 Axes>"
            ]
          },
          "metadata": {
            "tags": [],
            "needs_background": "light"
          }
        }
      ]
    },
    {
      "cell_type": "code",
      "metadata": {
        "id": "ypAszXNo_32n",
        "colab_type": "code",
        "colab": {}
      },
      "source": [
        "\n",
        "mck = {m: 0.1, c: sym.Rational('2'), k: sym.Rational('2.5')}"
      ],
      "execution_count": null,
      "outputs": []
    },
    {
      "cell_type": "code",
      "metadata": {
        "id": "u7aXmTytHNj1",
        "colab_type": "code",
        "colab": {
          "base_uri": "https://localhost:8080/",
          "height": 316
        },
        "outputId": "50692c5a-ff77-40f7-b9f7-164db230a5f9"
      },
      "source": [
        "import numpy as np\n",
        "\n",
        "r= 1.2\n",
        "Fo= m*r*w**2\n",
        "fourier= np.exp(1j*w*t)*Hjw\n",
        "y= Fo*np.fft.fft(fourier)\n",
        "y"
      ],
      "execution_count": null,
      "outputs": [
        {
          "output_type": "error",
          "ename": "TypeError",
          "evalue": "ignored",
          "traceback": [
            "\u001b[0;31m---------------------------------------------------------------------------\u001b[0m",
            "\u001b[0;31mAttributeError\u001b[0m                            Traceback (most recent call last)",
            "\u001b[0;31mAttributeError\u001b[0m: 'Mul' object has no attribute 'exp'",
            "\nThe above exception was the direct cause of the following exception:\n",
            "\u001b[0;31mTypeError\u001b[0m                                 Traceback (most recent call last)",
            "\u001b[0;32m<ipython-input-6-9671a3b1ea03>\u001b[0m in \u001b[0;36m<module>\u001b[0;34m()\u001b[0m\n\u001b[1;32m      3\u001b[0m \u001b[0mr\u001b[0m\u001b[0;34m=\u001b[0m \u001b[0;36m1.2\u001b[0m\u001b[0;34m\u001b[0m\u001b[0;34m\u001b[0m\u001b[0m\n\u001b[1;32m      4\u001b[0m \u001b[0mFo\u001b[0m\u001b[0;34m=\u001b[0m \u001b[0mm\u001b[0m\u001b[0;34m*\u001b[0m\u001b[0mr\u001b[0m\u001b[0;34m*\u001b[0m\u001b[0mw\u001b[0m\u001b[0;34m**\u001b[0m\u001b[0;36m2\u001b[0m\u001b[0;34m\u001b[0m\u001b[0;34m\u001b[0m\u001b[0m\n\u001b[0;32m----> 5\u001b[0;31m \u001b[0mfourier\u001b[0m\u001b[0;34m=\u001b[0m \u001b[0mnp\u001b[0m\u001b[0;34m.\u001b[0m\u001b[0mexp\u001b[0m\u001b[0;34m(\u001b[0m\u001b[0;36m1j\u001b[0m\u001b[0;34m*\u001b[0m\u001b[0mw\u001b[0m\u001b[0;34m*\u001b[0m\u001b[0mt\u001b[0m\u001b[0;34m)\u001b[0m\u001b[0;34m*\u001b[0m\u001b[0mHjw\u001b[0m\u001b[0;34m\u001b[0m\u001b[0;34m\u001b[0m\u001b[0m\n\u001b[0m\u001b[1;32m      6\u001b[0m \u001b[0my\u001b[0m\u001b[0;34m=\u001b[0m \u001b[0mFo\u001b[0m\u001b[0;34m*\u001b[0m\u001b[0mnp\u001b[0m\u001b[0;34m.\u001b[0m\u001b[0mfft\u001b[0m\u001b[0;34m.\u001b[0m\u001b[0mfft\u001b[0m\u001b[0;34m(\u001b[0m\u001b[0mfourier\u001b[0m\u001b[0;34m)\u001b[0m\u001b[0;34m\u001b[0m\u001b[0;34m\u001b[0m\u001b[0m\n\u001b[1;32m      7\u001b[0m \u001b[0my\u001b[0m\u001b[0;34m\u001b[0m\u001b[0;34m\u001b[0m\u001b[0m\n",
            "\u001b[0;31mTypeError\u001b[0m: loop of ufunc does not support argument 0 of type Mul which has no callable exp method"
          ]
        }
      ]
    },
    {
      "cell_type": "markdown",
      "metadata": {
        "id": "JBcdLILh_4Xn",
        "colab_type": "text"
      },
      "source": [
        "#3.4 \n",
        "Para las funciones de transferencia encontradas en el punto\n",
        "anterior, encuentre la expresi´on de la salida en el tiempo, en\n",
        "funci´on de R, L, C, y las condiciones iniciales, para las siguientes\n",
        "entradas: i) impulso, ii) escalon unitario, y iv) rampa.\n",
        "Compruebe los resultados en simulaci´on sobre Python\n",
        "(utililzando sympy) y grafique la se˜nal de salida para cada\n",
        "caso."
      ]
    },
    {
      "cell_type": "markdown",
      "metadata": {
        "id": "oBPkcDukAjmN",
        "colab_type": "text"
      },
      "source": [
        "#Circuito RLC en serie:\n"
      ]
    },
    {
      "cell_type": "code",
      "metadata": {
        "id": "yUOMz094AE5W",
        "colab_type": "code",
        "colab": {
          "base_uri": "https://localhost:8080/",
          "height": 39
        },
        "outputId": "c7babcd6-f088-4b29-d399-4a54e1b1d40f"
      },
      "source": [
        "%matplotlib inline\n",
        "import sympy as sym\n",
        "sym.init_printing()\n",
        "t = sym.symbols('t', real=True)\n",
        "S = sym.symbols('S', complex=True)\n",
        "t, R, L, C = sym.symbols('t R L C', positive=True)\n",
        "RLC = {R: 10, C: sym.Rational('0.2'), L: sym.Rational('0.8')}\n",
        "\n",
        "H = 1/((L*C*S**2)+R*C*S+1)\n",
        "H\n"
      ],
      "execution_count": null,
      "outputs": [
        {
          "output_type": "execute_result",
          "data": {
            "image/png": "[encoded data removed]",
            "text/latex": "$$\\frac{1}{C L S^{2} + C R S + 1}$$",
            "text/plain": [
              "        1         \n",
              "──────────────────\n",
              "     2            \n",
              "C⋅L⋅S  + C⋅R⋅S + 1"
            ]
          },
          "metadata": {
            "tags": []
          },
          "execution_count": 129
        }
      ]
    },
    {
      "cell_type": "markdown",
      "metadata": {
        "id": "tcEuZ8Z3DnLq",
        "colab_type": "text"
      },
      "source": [
        "#1.Impulso\n",
        "$x(t) = \\delta(t)$"
      ]
    },
    {
      "cell_type": "code",
      "metadata": {
        "id": "ZNmFZ16lE3PQ",
        "colab_type": "code",
        "colab": {
          "base_uri": "https://localhost:8080/",
          "height": 88
        },
        "outputId": "f4e2d843-9dd7-414f-deae-ae5f739570a2"
      },
      "source": [
        "sym.inverse_laplace_transform(H, S, t)"
      ],
      "execution_count": null,
      "outputs": [
        {
          "output_type": "execute_result",
          "data": {
            "image/png": "[encoded data removed]",
            "text/latex": "$$\\frac{e^{- \\frac{R t}{2 L}}}{\\sqrt{C} \\sqrt{C R^{2} - 4 L}} \\left(i e^{\\frac{t \\sqrt{\\left|{C R^{2} - 4 L}\\right|}}{2 \\sqrt{C} L} \\cos{\\left (\\frac{1}{2} \\operatorname{atan_{2}}{\\left (0,C R^{2} - 4 L \\right )} \\right )}} \\sin{\\left (\\frac{t \\sqrt{\\left|{C R^{2} - 4 L}\\right|}}{2 \\sqrt{C} L} \\sin{\\left (\\frac{1}{2} \\operatorname{atan_{2}}{\\left (0,C R^{2} - 4 L \\right )} \\right )} \\right )} + e^{\\frac{t \\sqrt{\\left|{C R^{2} - 4 L}\\right|}}{2 \\sqrt{C} L} \\cos{\\left (\\frac{1}{2} \\operatorname{atan_{2}}{\\left (0,C R^{2} - 4 L \\right )} \\right )}} \\cos{\\left (\\frac{t \\sqrt{\\left|{C R^{2} - 4 L}\\right|}}{2 \\sqrt{C} L} \\sin{\\left (\\frac{1}{2} \\operatorname{atan_{2}}{\\left (0,C R^{2} - 4 L \\right )} \\right )} \\right )} + i e^{- \\frac{t \\sqrt{\\left|{C R^{2} - 4 L}\\right|}}{2 \\sqrt{C} L} \\cos{\\left (\\frac{1}{2} \\operatorname{atan_{2}}{\\left (0,C R^{2} - 4 L \\right )} \\right )}} \\sin{\\left (\\frac{t \\sqrt{\\left|{C R^{2} - 4 L}\\right|}}{2 \\sqrt{C} L} \\sin{\\left (\\frac{1}{2} \\operatorname{atan_{2}}{\\left (0,C R^{2} - 4 L \\right )} \\right )} \\right )} - e^{- \\frac{t \\sqrt{\\left|{C R^{2} - 4 L}\\right|}}{2 \\sqrt{C} L} \\cos{\\left (\\frac{1}{2} \\operatorname{atan_{2}}{\\left (0,C R^{2} - 4 L \\right )} \\right )}} \\cos{\\left (\\frac{t \\sqrt{\\left|{C R^{2} - 4 L}\\right|}}{2 \\sqrt{C} L} \\sin{\\left (\\frac{1}{2} \\operatorname{atan_{2}}{\\left (0,C R^{2} - 4 L \\right )} \\right )} \\right )}\\right)$$",
            "text/plain": [
              "⎛        ⎛     ⎛      2      ⎞⎞    ______________                             \n",
              "⎜        ⎜atan2⎝0, C⋅R  - 4⋅L⎠⎟   ╱ │   2      │                              \n",
              "⎜   t⋅cos⎜────────────────────⎟⋅╲╱  │C⋅R  - 4⋅L│     ⎛     ⎛     ⎛      2     \n",
              "⎜        ⎝         2          ⎠                      ⎜     ⎜atan2⎝0, C⋅R  - 4⋅\n",
              "⎜   ─────────────────────────────────────────────    ⎜t⋅sin⎜──────────────────\n",
              "⎜                       2⋅√C⋅L                       ⎜     ⎝         2        \n",
              "⎜ⅈ⋅ℯ                                             ⋅sin⎜────────────────────────\n",
              "⎝                                                    ⎝                    2⋅√C\n",
              "──────────────────────────────────────────────────────────────────────────────\n",
              "                                                                              \n",
              "                                                                              \n",
              "                                                                              \n",
              "\n",
              "                               ⎛     ⎛      2      ⎞⎞    ______________       \n",
              "                               ⎜atan2⎝0, C⋅R  - 4⋅L⎠⎟   ╱ │   2      │        \n",
              " ⎞⎞    ______________⎞    t⋅cos⎜────────────────────⎟⋅╲╱  │C⋅R  - 4⋅L│     ⎛  \n",
              "L⎠⎟   ╱ │   2      │ ⎟         ⎝         2          ⎠                      ⎜  \n",
              "──⎟⋅╲╱  │C⋅R  - 4⋅L│ ⎟    ─────────────────────────────────────────────    ⎜t⋅\n",
              "  ⎠                  ⎟                        2⋅√C⋅L                       ⎜  \n",
              "─────────────────────⎟ + ℯ                                             ⋅cos⎜──\n",
              "⋅L                   ⎠                                                     ⎝  \n",
              "──────────────────────────────────────────────────────────────────────────────\n",
              "                                                                              \n",
              "                                                                              \n",
              "                                                                              \n",
              "\n",
              "                                                        ⎛     ⎛      2      ⎞⎞\n",
              "                                                        ⎜atan2⎝0, C⋅R  - 4⋅L⎠⎟\n",
              "   ⎛     ⎛      2      ⎞⎞    ______________⎞      -t⋅cos⎜────────────────────⎟\n",
              "   ⎜atan2⎝0, C⋅R  - 4⋅L⎠⎟   ╱ │   2      │ ⎟            ⎝         2          ⎠\n",
              "sin⎜────────────────────⎟⋅╲╱  │C⋅R  - 4⋅L│ ⎟      ────────────────────────────\n",
              "   ⎝         2          ⎠                  ⎟                           2⋅√C⋅L \n",
              "───────────────────────────────────────────⎟ + ⅈ⋅ℯ                            \n",
              "                  2⋅√C⋅L                   ⎠                                  \n",
              "──────────────────────────────────────────────────────────────────────────────\n",
              "                                                ____________                  \n",
              "                                               ╱    2                         \n",
              "                                          √C⋅╲╱  C⋅R  - 4⋅L                   \n",
              "\n",
              "    ______________                                                            \n",
              "   ╱ │   2      │                                                             \n",
              "⋅╲╱  │C⋅R  - 4⋅L│      ⎛     ⎛     ⎛      2      ⎞⎞    ______________⎞    -t⋅c\n",
              "                       ⎜     ⎜atan2⎝0, C⋅R  - 4⋅L⎠⎟   ╱ │   2      │ ⎟        \n",
              "───────────────────    ⎜t⋅sin⎜────────────────────⎟⋅╲╱  │C⋅R  - 4⋅L│ ⎟    ────\n",
              "                       ⎜     ⎝         2          ⎠                  ⎟        \n",
              "                   ⋅sin⎜─────────────────────────────────────────────⎟ - ℯ    \n",
              "                       ⎝                    2⋅√C⋅L                   ⎠        \n",
              "──────────────────────────────────────────────────────────────────────────────\n",
              "                                                                              \n",
              "                                                                              \n",
              "                                                                              \n",
              "\n",
              "  ⎛     ⎛      2      ⎞⎞    ______________                                    \n",
              "  ⎜atan2⎝0, C⋅R  - 4⋅L⎠⎟   ╱ │   2      │                                     \n",
              "os⎜────────────────────⎟⋅╲╱  │C⋅R  - 4⋅L│      ⎛     ⎛     ⎛      2      ⎞⎞   \n",
              "  ⎝         2          ⎠                       ⎜     ⎜atan2⎝0, C⋅R  - 4⋅L⎠⎟   \n",
              "───────────────────────────────────────────    ⎜t⋅sin⎜────────────────────⎟⋅╲╱\n",
              "                 2⋅√C⋅L                        ⎜     ⎝         2          ⎠   \n",
              "                                           ⋅cos⎜──────────────────────────────\n",
              "                                               ⎝                    2⋅√C⋅L    \n",
              "──────────────────────────────────────────────────────────────────────────────\n",
              "                                                                              \n",
              "                                                                              \n",
              "                                                                              \n",
              "\n",
              "                ⎞       \n",
              "                ⎟       \n",
              " ______________⎞⎟       \n",
              "╱ │   2      │ ⎟⎟  -R⋅t \n",
              "  │C⋅R  - 4⋅L│ ⎟⎟  ─────\n",
              "               ⎟⎟   2⋅L \n",
              "───────────────⎟⎟⋅ℯ     \n",
              "               ⎠⎠       \n",
              "────────────────────────\n",
              "                        \n",
              "                        \n",
              "                        "
            ]
          },
          "metadata": {
            "tags": []
          },
          "execution_count": 10
        }
      ]
    },
    {
      "cell_type": "code",
      "metadata": {
        "id": "svpGQWeKBpcb",
        "colab_type": "code",
        "colab": {
          "base_uri": "https://localhost:8080/",
          "height": 427
        },
        "outputId": "715e09ee-7144-4aad-899a-4b2a8cce086f"
      },
      "source": [
        "y= sym.inverse_laplace_transform(H, S, t)\n",
        "\n",
        "sym.plot(y.subs(RLC), (t,0,12), ylabel=r'y(t)');\n"
      ],
      "execution_count": null,
      "outputs": [
        {
          "output_type": "stream",
          "text": [
            "(I*exp(t*cos(atan2(0, C*R**2 - 4*L)/2)*sqrt(Abs(C*R**2 - 4*L))/(2*sqrt(C)*L))*sin(t*sin(atan2(0, C*R**2 - 4*L)/2)*sqrt(Abs(C*R**2 - 4*L))/(2*sqrt(C)*L)) + exp(t*cos(atan2(0, C*R**2 - 4*L)/2)*sqrt(Abs(C*R**2 - 4*L))/(2*sqrt(C)*L))*cos(t*sin(atan2(0, C*R**2 - 4*L)/2)*sqrt(Abs(C*R**2 - 4*L))/(2*sqrt(C)*L)) + I*exp(-t*cos(atan2(0, C*R**2 - 4*L)/2)*sqrt(Abs(C*R**2 - 4*L))/(2*sqrt(C)*L))*sin(t*sin(atan2(0, C*R**2 - 4*L)/2)*sqrt(Abs(C*R**2 - 4*L))/(2*sqrt(C)*L)) - exp(-t*cos(atan2(0, C*R**2 - 4*L)/2)*sqrt(Abs(C*R**2 - 4*L))/(2*sqrt(C)*L))*cos(t*sin(atan2(0, C*R**2 - 4*L)/2)*sqrt(Abs(C*R**2 - 4*L))/(2*sqrt(C)*L)))*exp(-R*t/(2*L))/(sqrt(C)*sqrt(C*R**2 - 4*L))\n"
          ],
          "name": "stdout"
        },
        {
          "output_type": "stream",
          "text": [
            "/usr/local/lib/python3.6/dist-packages/sympy/plotting/plot.py:890: MatplotlibDeprecationWarning: \n",
            "The set_smart_bounds function was deprecated in Matplotlib 3.2 and will be removed two minor releases later.\n",
            "  self.ax.spines['left'].set_smart_bounds(True)\n",
            "/usr/local/lib/python3.6/dist-packages/sympy/plotting/plot.py:891: MatplotlibDeprecationWarning: \n",
            "The set_smart_bounds function was deprecated in Matplotlib 3.2 and will be removed two minor releases later.\n",
            "  self.ax.spines['bottom'].set_smart_bounds(False)\n"
          ],
          "name": "stderr"
        },
        {
          "output_type": "display_data",
          "data": {
            "image/png": "[encoded data removed]",
            "text/plain": [
              "<Figure size 432x288 with 1 Axes>"
            ]
          },
          "metadata": {
            "tags": [],
            "needs_background": "light"
          }
        }
      ]
    },
    {
      "cell_type": "markdown",
      "metadata": {
        "id": "XLWgf0HaDpLO",
        "colab_type": "text"
      },
      "source": [
        "#2. Escalón unitario\n",
        "$x(t) = u(t)$"
      ]
    },
    {
      "cell_type": "code",
      "metadata": {
        "id": "1LARLuSZE9hI",
        "colab_type": "code",
        "colab": {
          "base_uri": "https://localhost:8080/",
          "height": 78
        },
        "outputId": "69de3f18-4fc1-43a4-8859-8f4ec9504139"
      },
      "source": [
        "sym.inverse_laplace_transform(H*(1/S), S, t)"
      ],
      "execution_count": null,
      "outputs": [
        {
          "output_type": "execute_result",
          "data": {
            "image/png": "[encoded data removed]",
            "text/latex": "$$- \\frac{8 L^{2} e^{- \\frac{R t}{L}}}{\\left(\\sqrt{C} R - \\sqrt{C R^{2} - 4 L}\\right)^{2} \\left(\\sqrt{C} R + \\sqrt{C R^{2} - 4 L}\\right)^{2} \\sqrt{C R^{2} - 4 L}} \\left(i \\sqrt{C} R e^{\\frac{t}{2 L} \\left(R - \\frac{1}{\\sqrt{C}} \\cos{\\left (\\frac{1}{2} \\operatorname{atan_{2}}{\\left (0,C R^{2} - 4 L \\right )} \\right )} \\sqrt{\\left|{C R^{2} - 4 L}\\right|}\\right)} \\sin{\\left (\\frac{t \\sqrt{\\left|{C R^{2} - 4 L}\\right|}}{2 \\sqrt{C} L} \\sin{\\left (\\frac{1}{2} \\operatorname{atan_{2}}{\\left (0,C R^{2} - 4 L \\right )} \\right )} \\right )} - \\sqrt{C} R e^{\\frac{t}{2 L} \\left(R - \\frac{1}{\\sqrt{C}} \\cos{\\left (\\frac{1}{2} \\operatorname{atan_{2}}{\\left (0,C R^{2} - 4 L \\right )} \\right )} \\sqrt{\\left|{C R^{2} - 4 L}\\right|}\\right)} \\cos{\\left (\\frac{t \\sqrt{\\left|{C R^{2} - 4 L}\\right|}}{2 \\sqrt{C} L} \\sin{\\left (\\frac{1}{2} \\operatorname{atan_{2}}{\\left (0,C R^{2} - 4 L \\right )} \\right )} \\right )} + i \\sqrt{C} R e^{\\frac{t}{2 L} \\left(R + \\frac{1}{\\sqrt{C}} \\cos{\\left (\\frac{1}{2} \\operatorname{atan_{2}}{\\left (0,C R^{2} - 4 L \\right )} \\right )} \\sqrt{\\left|{C R^{2} - 4 L}\\right|}\\right)} \\sin{\\left (\\frac{t \\sqrt{\\left|{C R^{2} - 4 L}\\right|}}{2 \\sqrt{C} L} \\sin{\\left (\\frac{1}{2} \\operatorname{atan_{2}}{\\left (0,C R^{2} - 4 L \\right )} \\right )} \\right )} + \\sqrt{C} R e^{\\frac{t}{2 L} \\left(R + \\frac{1}{\\sqrt{C}} \\cos{\\left (\\frac{1}{2} \\operatorname{atan_{2}}{\\left (0,C R^{2} - 4 L \\right )} \\right )} \\sqrt{\\left|{C R^{2} - 4 L}\\right|}\\right)} \\cos{\\left (\\frac{t \\sqrt{\\left|{C R^{2} - 4 L}\\right|}}{2 \\sqrt{C} L} \\sin{\\left (\\frac{1}{2} \\operatorname{atan_{2}}{\\left (0,C R^{2} - 4 L \\right )} \\right )} \\right )} - 2 \\sqrt{C R^{2} - 4 L} e^{\\frac{R t}{L}} - i \\sqrt{C R^{2} - 4 L} e^{\\frac{t}{2 L} \\left(R - \\frac{1}{\\sqrt{C}} \\cos{\\left (\\frac{1}{2} \\operatorname{atan_{2}}{\\left (0,C R^{2} - 4 L \\right )} \\right )} \\sqrt{\\left|{C R^{2} - 4 L}\\right|}\\right)} \\sin{\\left (\\frac{t \\sqrt{\\left|{C R^{2} - 4 L}\\right|}}{2 \\sqrt{C} L} \\sin{\\left (\\frac{1}{2} \\operatorname{atan_{2}}{\\left (0,C R^{2} - 4 L \\right )} \\right )} \\right )} + \\sqrt{C R^{2} - 4 L} e^{\\frac{t}{2 L} \\left(R - \\frac{1}{\\sqrt{C}} \\cos{\\left (\\frac{1}{2} \\operatorname{atan_{2}}{\\left (0,C R^{2} - 4 L \\right )} \\right )} \\sqrt{\\left|{C R^{2} - 4 L}\\right|}\\right)} \\cos{\\left (\\frac{t \\sqrt{\\left|{C R^{2} - 4 L}\\right|}}{2 \\sqrt{C} L} \\sin{\\left (\\frac{1}{2} \\operatorname{atan_{2}}{\\left (0,C R^{2} - 4 L \\right )} \\right )} \\right )} + i \\sqrt{C R^{2} - 4 L} e^{\\frac{t}{2 L} \\left(R + \\frac{1}{\\sqrt{C}} \\cos{\\left (\\frac{1}{2} \\operatorname{atan_{2}}{\\left (0,C R^{2} - 4 L \\right )} \\right )} \\sqrt{\\left|{C R^{2} - 4 L}\\right|}\\right)} \\sin{\\left (\\frac{t \\sqrt{\\left|{C R^{2} - 4 L}\\right|}}{2 \\sqrt{C} L} \\sin{\\left (\\frac{1}{2} \\operatorname{atan_{2}}{\\left (0,C R^{2} - 4 L \\right )} \\right )} \\right )} + \\sqrt{C R^{2} - 4 L} e^{\\frac{t}{2 L} \\left(R + \\frac{1}{\\sqrt{C}} \\cos{\\left (\\frac{1}{2} \\operatorname{atan_{2}}{\\left (0,C R^{2} - 4 L \\right )} \\right )} \\sqrt{\\left|{C R^{2} - 4 L}\\right|}\\right)} \\cos{\\left (\\frac{t \\sqrt{\\left|{C R^{2} - 4 L}\\right|}}{2 \\sqrt{C} L} \\sin{\\left (\\frac{1}{2} \\operatorname{atan_{2}}{\\left (0,C R^{2} - 4 L \\right )} \\right )} \\right )}\\right)$$",
            "text/plain": [
              "      ⎛          ⎛       ⎛     ⎛      2      ⎞⎞    ______________⎞            \n",
              "      ⎜          ⎜       ⎜atan2⎝0, C⋅R  - 4⋅L⎠⎟   ╱ │   2      │ ⎟            \n",
              "      ⎜          ⎜    cos⎜────────────────────⎟⋅╲╱  │C⋅R  - 4⋅L│ ⎟            \n",
              "      ⎜          ⎜       ⎝         2          ⎠                  ⎟            \n",
              "      ⎜        t⋅⎜R - ───────────────────────────────────────────⎟    ⎛     ⎛ \n",
              "      ⎜          ⎝                         √C                    ⎠    ⎜     ⎜a\n",
              "      ⎜        ───────────────────────────────────────────────────    ⎜t⋅sin⎜─\n",
              "    2 ⎜                                2⋅L                            ⎜     ⎝ \n",
              "-8⋅L ⋅⎜ⅈ⋅√C⋅R⋅ℯ                                                   ⋅sin⎜───────\n",
              "      ⎝                                                               ⎝       \n",
              "──────────────────────────────────────────────────────────────────────────────\n",
              "                                                                              \n",
              "                                                                              \n",
              "                                                                              \n",
              "                                                                              \n",
              "\n",
              "                                                  ⎛       ⎛     ⎛      2      \n",
              "                                                  ⎜       ⎜atan2⎝0, C⋅R  - 4⋅L\n",
              "                                                  ⎜    cos⎜───────────────────\n",
              "                                                  ⎜       ⎝         2         \n",
              "    ⎛      2      ⎞⎞    ______________⎞         t⋅⎜R - ───────────────────────\n",
              "tan2⎝0, C⋅R  - 4⋅L⎠⎟   ╱ │   2      │ ⎟           ⎝                         √C\n",
              "───────────────────⎟⋅╲╱  │C⋅R  - 4⋅L│ ⎟         ──────────────────────────────\n",
              "        2          ⎠                  ⎟                                 2⋅L   \n",
              "──────────────────────────────────────⎟ - √C⋅R⋅ℯ                              \n",
              "             2⋅√C⋅L                   ⎠                                       \n",
              "──────────────────────────────────────────────────────────────────────────────\n",
              "                                                                              \n",
              "                                                                              \n",
              "                                                                              \n",
              "                                                                              \n",
              "\n",
              "⎞⎞    ______________⎞                                                         \n",
              "⎠⎟   ╱ │   2      │ ⎟                                                         \n",
              "─⎟⋅╲╱  │C⋅R  - 4⋅L│ ⎟                                                         \n",
              " ⎠                  ⎟                                                         \n",
              "────────────────────⎟    ⎛     ⎛     ⎛      2      ⎞⎞    ______________⎞      \n",
              "                    ⎠    ⎜     ⎜atan2⎝0, C⋅R  - 4⋅L⎠⎟   ╱ │   2      │ ⎟      \n",
              "─────────────────────    ⎜t⋅sin⎜────────────────────⎟⋅╲╱  │C⋅R  - 4⋅L│ ⎟      \n",
              "                         ⎜     ⎝         2          ⎠                  ⎟      \n",
              "                     ⋅cos⎜─────────────────────────────────────────────⎟ + ⅈ⋅√\n",
              "                         ⎝                    2⋅√C⋅L                   ⎠      \n",
              "──────────────────────────────────────────────────────────────────────────────\n",
              "                                                                              \n",
              "                                                                              \n",
              "                                                                              \n",
              "                                                                              \n",
              "\n",
              "       ⎛       ⎛     ⎛      2      ⎞⎞    ______________⎞                      \n",
              "       ⎜       ⎜atan2⎝0, C⋅R  - 4⋅L⎠⎟   ╱ │   2      │ ⎟                      \n",
              "       ⎜    cos⎜────────────────────⎟⋅╲╱  │C⋅R  - 4⋅L│ ⎟                      \n",
              "       ⎜       ⎝         2          ⎠                  ⎟                      \n",
              "     t⋅⎜R + ───────────────────────────────────────────⎟    ⎛     ⎛     ⎛     \n",
              "       ⎝                         √C                    ⎠    ⎜     ⎜atan2⎝0, C⋅\n",
              "     ───────────────────────────────────────────────────    ⎜t⋅sin⎜───────────\n",
              "                             2⋅L                            ⎜     ⎝         2 \n",
              "C⋅R⋅ℯ                                                   ⋅sin⎜─────────────────\n",
              "                                                            ⎝                 \n",
              "──────────────────────────────────────────────────────────────────────────────\n",
              "                                                                              \n",
              "                                                                              \n",
              "                                                                              \n",
              "                                                                              \n",
              "\n",
              "                                        ⎛       ⎛     ⎛      2      ⎞⎞    ____\n",
              "                                        ⎜       ⎜atan2⎝0, C⋅R  - 4⋅L⎠⎟   ╱ │  \n",
              "                                        ⎜    cos⎜────────────────────⎟⋅╲╱  │C⋅\n",
              "                                        ⎜       ⎝         2          ⎠        \n",
              " 2      ⎞⎞    ______________⎞         t⋅⎜R + ─────────────────────────────────\n",
              "R  - 4⋅L⎠⎟   ╱ │   2      │ ⎟           ⎝                         √C          \n",
              "─────────⎟⋅╲╱  │C⋅R  - 4⋅L│ ⎟         ────────────────────────────────────────\n",
              "         ⎠                  ⎟                                 2⋅L             \n",
              "────────────────────────────⎟ + √C⋅R⋅ℯ                                        \n",
              "   2⋅√C⋅L                   ⎠                                                 \n",
              "──────────────────────────────────────────────────────────────────────────────\n",
              "                                                                              \n",
              "                                                                              \n",
              "                                                                              \n",
              "                                                                              \n",
              "\n",
              "__________⎞                                                                   \n",
              " 2      │ ⎟                                                                   \n",
              "R  - 4⋅L│ ⎟                                                                   \n",
              "          ⎟                                                                   \n",
              "──────────⎟    ⎛     ⎛     ⎛      2      ⎞⎞    ______________⎞                \n",
              "          ⎠    ⎜     ⎜atan2⎝0, C⋅R  - 4⋅L⎠⎟   ╱ │   2      │ ⎟                \n",
              "───────────    ⎜t⋅sin⎜────────────────────⎟⋅╲╱  │C⋅R  - 4⋅L│ ⎟        ________\n",
              "               ⎜     ⎝         2          ⎠                  ⎟       ╱    2   \n",
              "           ⋅cos⎜─────────────────────────────────────────────⎟ - 2⋅╲╱  C⋅R  - \n",
              "               ⎝                    2⋅√C⋅L                   ⎠                \n",
              "──────────────────────────────────────────────────────────────────────────────\n",
              "                                                                              \n",
              "                                                                 ⎛          __\n",
              "                                                                 ⎜         ╱  \n",
              "                                                                 ⎝√C⋅R - ╲╱  C\n",
              "\n",
              "                                 ⎛       ⎛     ⎛      2      ⎞⎞    ___________\n",
              "                                 ⎜       ⎜atan2⎝0, C⋅R  - 4⋅L⎠⎟   ╱ │   2     \n",
              "                                 ⎜    cos⎜────────────────────⎟⋅╲╱  │C⋅R  - 4⋅\n",
              "                                 ⎜       ⎝         2          ⎠               \n",
              "                               t⋅⎜R - ────────────────────────────────────────\n",
              "      R⋅t                        ⎝                         √C                 \n",
              "____  ───        ____________  ───────────────────────────────────────────────\n",
              "       L        ╱    2                                 2⋅L                    \n",
              "4⋅L ⋅ℯ    - ⅈ⋅╲╱  C⋅R  - 4⋅L ⋅ℯ                                               \n",
              "                                                                              \n",
              "──────────────────────────────────────────────────────────────────────────────\n",
              "           2                         2                                        \n",
              "__________⎞  ⎛          ____________⎞     ____________                        \n",
              "  2       ⎟  ⎜         ╱    2       ⎟    ╱    2                               \n",
              "⋅R  - 4⋅L ⎠ ⋅⎝√C⋅R + ╲╱  C⋅R  - 4⋅L ⎠ ⋅╲╱  C⋅R  - 4⋅L                         \n",
              "\n",
              "___⎞                                                                         ⎛\n",
              " │ ⎟                                                                         ⎜\n",
              "L│ ⎟                                                                         ⎜\n",
              "   ⎟                                                                         ⎜\n",
              "───⎟    ⎛     ⎛     ⎛      2      ⎞⎞    ______________⎞                    t⋅⎜\n",
              "   ⎠    ⎜     ⎜atan2⎝0, C⋅R  - 4⋅L⎠⎟   ╱ │   2      │ ⎟                      ⎝\n",
              "────    ⎜t⋅sin⎜────────────────────⎟⋅╲╱  │C⋅R  - 4⋅L│ ⎟      ____________  ───\n",
              "        ⎜     ⎝         2          ⎠                  ⎟     ╱    2            \n",
              "    ⋅sin⎜─────────────────────────────────────────────⎟ + ╲╱  C⋅R  - 4⋅L ⋅ℯ   \n",
              "        ⎝                    2⋅√C⋅L                   ⎠                       \n",
              "──────────────────────────────────────────────────────────────────────────────\n",
              "                                                                              \n",
              "                                                                              \n",
              "                                                                              \n",
              "                                                                              \n",
              "\n",
              "       ⎛     ⎛      2      ⎞⎞    ______________⎞                              \n",
              "       ⎜atan2⎝0, C⋅R  - 4⋅L⎠⎟   ╱ │   2      │ ⎟                              \n",
              "    cos⎜────────────────────⎟⋅╲╱  │C⋅R  - 4⋅L│ ⎟                              \n",
              "       ⎝         2          ⎠                  ⎟                              \n",
              "R - ───────────────────────────────────────────⎟    ⎛     ⎛     ⎛      2      \n",
              "                         √C                    ⎠    ⎜     ⎜atan2⎝0, C⋅R  - 4⋅L\n",
              "────────────────────────────────────────────────    ⎜t⋅sin⎜───────────────────\n",
              "                     2⋅L                            ⎜     ⎝         2         \n",
              "                                                ⋅cos⎜─────────────────────────\n",
              "                                                    ⎝                    2⋅√C⋅\n",
              "──────────────────────────────────────────────────────────────────────────────\n",
              "                                                                              \n",
              "                                                                              \n",
              "                                                                              \n",
              "                                                                              \n",
              "\n",
              "                                             ⎛       ⎛     ⎛      2      ⎞⎞   \n",
              "                                             ⎜       ⎜atan2⎝0, C⋅R  - 4⋅L⎠⎟   \n",
              "                                             ⎜    cos⎜────────────────────⎟⋅╲╱\n",
              "                                             ⎜       ⎝         2          ⎠   \n",
              "⎞⎞    ______________⎞                      t⋅⎜R + ────────────────────────────\n",
              "⎠⎟   ╱ │   2      │ ⎟                        ⎝                         √C     \n",
              "─⎟⋅╲╱  │C⋅R  - 4⋅L│ ⎟        ____________  ───────────────────────────────────\n",
              " ⎠                  ⎟       ╱    2                                 2⋅L        \n",
              "────────────────────⎟ + ⅈ⋅╲╱  C⋅R  - 4⋅L ⋅ℯ                                   \n",
              "L                   ⎠                                                         \n",
              "──────────────────────────────────────────────────────────────────────────────\n",
              "                                                                              \n",
              "                                                                              \n",
              "                                                                              \n",
              "                                                                              \n",
              "\n",
              " ______________⎞                                                              \n",
              "╱ │   2      │ ⎟                                                              \n",
              "  │C⋅R  - 4⋅L│ ⎟                                                              \n",
              "               ⎟                                                              \n",
              "───────────────⎟    ⎛     ⎛     ⎛      2      ⎞⎞    ______________⎞           \n",
              "               ⎠    ⎜     ⎜atan2⎝0, C⋅R  - 4⋅L⎠⎟   ╱ │   2      │ ⎟           \n",
              "────────────────    ⎜t⋅sin⎜────────────────────⎟⋅╲╱  │C⋅R  - 4⋅L│ ⎟      _____\n",
              "                    ⎜     ⎝         2          ⎠                  ⎟     ╱    2\n",
              "                ⋅sin⎜─────────────────────────────────────────────⎟ + ╲╱  C⋅R \n",
              "                    ⎝                    2⋅√C⋅L                   ⎠           \n",
              "──────────────────────────────────────────────────────────────────────────────\n",
              "                                                                              \n",
              "                                                                              \n",
              "                                                                              \n",
              "                                                                              \n",
              "\n",
              "           ⎛       ⎛     ⎛      2      ⎞⎞    ______________⎞                  \n",
              "           ⎜       ⎜atan2⎝0, C⋅R  - 4⋅L⎠⎟   ╱ │   2      │ ⎟                  \n",
              "           ⎜    cos⎜────────────────────⎟⋅╲╱  │C⋅R  - 4⋅L│ ⎟                  \n",
              "           ⎜       ⎝         2          ⎠                  ⎟                  \n",
              "         t⋅⎜R + ───────────────────────────────────────────⎟    ⎛     ⎛     ⎛ \n",
              "           ⎝                         √C                    ⎠    ⎜     ⎜atan2⎝0\n",
              "_______  ───────────────────────────────────────────────────    ⎜t⋅sin⎜───────\n",
              "                                 2⋅L                            ⎜     ⎝       \n",
              " - 4⋅L ⋅ℯ                                                   ⋅cos⎜─────────────\n",
              "                                                                ⎝             \n",
              "──────────────────────────────────────────────────────────────────────────────\n",
              "                                                                              \n",
              "                                                                              \n",
              "                                                                              \n",
              "                                                                              \n",
              "\n",
              "                                 ⎞        \n",
              "                                 ⎟        \n",
              "                                 ⎟        \n",
              "                                 ⎟        \n",
              "     2      ⎞⎞    ______________⎞⎟        \n",
              ", C⋅R  - 4⋅L⎠⎟   ╱ │   2      │ ⎟⎟  -R⋅t  \n",
              "─────────────⎟⋅╲╱  │C⋅R  - 4⋅L│ ⎟⎟  ───── \n",
              "  2          ⎠                  ⎟⎟    L   \n",
              "────────────────────────────────⎟⎟⋅ℯ      \n",
              "       2⋅√C⋅L                   ⎠⎠        \n",
              "──────────────────────────────────────────\n",
              "                                          \n",
              "                                          \n",
              "                                          \n",
              "                                          "
            ]
          },
          "metadata": {
            "tags": []
          },
          "execution_count": 11
        }
      ]
    },
    {
      "cell_type": "code",
      "metadata": {
        "id": "PbAq0cotD_gP",
        "colab_type": "code",
        "colab": {
          "base_uri": "https://localhost:8080/",
          "height": 390
        },
        "outputId": "64dff692-868c-49ea-b332-83d467d4d1d2"
      },
      "source": [
        "y= sym.inverse_laplace_transform(H*(1/S), S, t)\n",
        "sym.plot(y.subs(RLC), (t,0,12), ylabel=r'y(t)');\n"
      ],
      "execution_count": null,
      "outputs": [
        {
          "output_type": "stream",
          "text": [
            "/usr/local/lib/python3.6/dist-packages/sympy/plotting/plot.py:890: MatplotlibDeprecationWarning: \n",
            "The set_smart_bounds function was deprecated in Matplotlib 3.2 and will be removed two minor releases later.\n",
            "  self.ax.spines['left'].set_smart_bounds(True)\n",
            "/usr/local/lib/python3.6/dist-packages/sympy/plotting/plot.py:891: MatplotlibDeprecationWarning: \n",
            "The set_smart_bounds function was deprecated in Matplotlib 3.2 and will be removed two minor releases later.\n",
            "  self.ax.spines['bottom'].set_smart_bounds(False)\n"
          ],
          "name": "stderr"
        },
        {
          "output_type": "display_data",
          "data": {
            "image/png": "[encoded data removed]",
            "text/plain": [
              "<Figure size 432x288 with 1 Axes>"
            ]
          },
          "metadata": {
            "tags": [],
            "needs_background": "light"
          }
        }
      ]
    },
    {
      "cell_type": "markdown",
      "metadata": {
        "id": "17roPf1UFFXW",
        "colab_type": "text"
      },
      "source": [
        "#3. Rampa\n",
        "$x(t)=t$\n"
      ]
    },
    {
      "cell_type": "code",
      "metadata": {
        "id": "m3dSwTq6FPzX",
        "colab_type": "code",
        "colab": {
          "base_uri": "https://localhost:8080/",
          "height": 39
        },
        "outputId": "c9bef081-579c-46a4-a0d8-4ca45262713c"
      },
      "source": [
        "sym.inverse_laplace_transform(H*1/S**2, S, t)"
      ],
      "execution_count": null,
      "outputs": [
        {
          "output_type": "execute_result",
          "data": {
            "image/png": "[encoded data removed]",
            "text/latex": "$$\\mathcal{L}^{-1}_{S}\\left[\\frac{1}{C L S^{4} + C R S^{3} + S^{2}}\\right]\\left(t\\right)$$",
            "text/plain": [
              "                       ⎛         1                      ⎞\n",
              "InverseLaplaceTransform⎜────────────────────, S, t, None⎟\n",
              "                       ⎜     4        3    2            ⎟\n",
              "                       ⎝C⋅L⋅S  + C⋅R⋅S  + S             ⎠"
            ]
          },
          "metadata": {
            "tags": []
          },
          "execution_count": 130
        }
      ]
    },
    {
      "cell_type": "code",
      "metadata": {
        "id": "eCiIn4f-GTM9",
        "colab_type": "code",
        "colab": {
          "base_uri": "https://localhost:8080/",
          "height": 58
        },
        "outputId": "90f5f6be-555f-4cb0-be11-6cb14e1f7bda"
      },
      "source": [
        "y= sym.inverse_laplace_transform(H*(1/S**2), S, t)\n",
        "y= y.subs(RLC)\n",
        "y\n",
        "#sym.plot(y.subs(RLC), (t,0,12), ylabel=r'y(t)');\n"
      ],
      "execution_count": null,
      "outputs": [
        {
          "output_type": "execute_result",
          "data": {
            "image/png": "[encoded data removed]",
            "text/latex": "$$\\mathcal{L}^{-1}_{S}\\left[\\frac{1}{\\frac{4 S^{4}}{25} + 2 S^{3} + S^{2}}\\right]\\left(t\\right)$$",
            "text/plain": [
              "                       ⎛       1                    ⎞\n",
              "InverseLaplaceTransform⎜────────────────, S, t, None⎟\n",
              "                       ⎜   4                        ⎟\n",
              "                       ⎜4⋅S       3    2            ⎟\n",
              "                       ⎜──── + 2⋅S  + S             ⎟\n",
              "                       ⎝ 25                         ⎠"
            ]
          },
          "metadata": {
            "tags": []
          },
          "execution_count": 131
        }
      ]
    },
    {
      "cell_type": "markdown",
      "metadata": {
        "id": "oLU-iBPzHhXW",
        "colab_type": "text"
      },
      "source": [
        "#Circuito RCL en paralelo:\n"
      ]
    },
    {
      "cell_type": "code",
      "metadata": {
        "id": "s_6N5OiPHyN2",
        "colab_type": "code",
        "colab": {
          "base_uri": "https://localhost:8080/",
          "height": 38
        },
        "outputId": "014a4331-44d6-4952-d054-aae5668fb37d"
      },
      "source": [
        "%matplotlib inline\n",
        "import sympy as sym\n",
        "sym.init_printing()\n",
        "t = sym.symbols('t', real=True)\n",
        "S = sym.symbols('S', complex=True)\n",
        "t, R, L, C = sym.symbols('t R L C', positive=True)\n",
        "RLC = {R: 10, C: sym.Rational('0.2'), L: sym.Rational('0.8')}\n",
        "\n",
        "H = 1/(L*S)\n",
        "H"
      ],
      "execution_count": null,
      "outputs": [
        {
          "output_type": "execute_result",
          "data": {
            "image/png": "[encoded data removed]",
            "text/latex": "$$\\frac{1}{L S}$$",
            "text/plain": [
              " 1 \n",
              "───\n",
              "L⋅S"
            ]
          },
          "metadata": {
            "tags": []
          },
          "execution_count": 153
        }
      ]
    },
    {
      "cell_type": "markdown",
      "metadata": {
        "id": "N2EVDLM-IF1q",
        "colab_type": "text"
      },
      "source": [
        "#1.Impulso\n",
        "$x(t) = \\delta(t)$"
      ]
    },
    {
      "cell_type": "code",
      "metadata": {
        "id": "Lxqc2GOCIMWs",
        "colab_type": "code",
        "colab": {
          "base_uri": "https://localhost:8080/",
          "height": 38
        },
        "outputId": "cecdfdf0-0a7d-4001-ea06-c0a0d455c2ce"
      },
      "source": [
        "sym.inverse_laplace_transform(H, S, t)"
      ],
      "execution_count": null,
      "outputs": [
        {
          "output_type": "execute_result",
          "data": {
            "image/png": "[encoded data removed]",
            "text/latex": "$$\\frac{1}{L}$$",
            "text/plain": [
              "1\n",
              "─\n",
              "L"
            ]
          },
          "metadata": {
            "tags": []
          },
          "execution_count": 154
        }
      ]
    },
    {
      "cell_type": "code",
      "metadata": {
        "id": "LH0YRgV4Ic7Q",
        "colab_type": "code",
        "colab": {
          "base_uri": "https://localhost:8080/",
          "height": 299
        },
        "outputId": "eefc4d41-af9a-4257-db03-ce7deec00460"
      },
      "source": [
        "y=sym.inverse_laplace_transform(H, S, t)\n",
        "sym.plot(y.subs(RLC), (t,0,12), ylabel=r'y(t)');\n"
      ],
      "execution_count": null,
      "outputs": [
        {
          "output_type": "display_data",
          "data": {
            "image/png": "[encoded data removed]",
            "text/plain": [
              "<Figure size 432x288 with 1 Axes>"
            ]
          },
          "metadata": {
            "tags": [],
            "needs_background": "light"
          }
        }
      ]
    },
    {
      "cell_type": "markdown",
      "metadata": {
        "id": "4t0YUPh2JUvj",
        "colab_type": "text"
      },
      "source": [
        "#2. Escalón unitario\n",
        "$x(t) = u(t)$"
      ]
    },
    {
      "cell_type": "code",
      "metadata": {
        "id": "pnJy8tw7JVhY",
        "colab_type": "code",
        "colab": {
          "base_uri": "https://localhost:8080/",
          "height": 38
        },
        "outputId": "12f14050-d41b-4488-d755-2634ceeaaeab"
      },
      "source": [
        "sym.inverse_laplace_transform(H*(1/S), S, t)"
      ],
      "execution_count": null,
      "outputs": [
        {
          "output_type": "execute_result",
          "data": {
            "image/png": "[encoded data removed]",
            "text/latex": "$$\\frac{t}{L}$$",
            "text/plain": [
              "t\n",
              "─\n",
              "L"
            ]
          },
          "metadata": {
            "tags": []
          },
          "execution_count": 26
        }
      ]
    },
    {
      "cell_type": "code",
      "metadata": {
        "id": "aumt2fTbJemo",
        "colab_type": "code",
        "colab": {
          "base_uri": "https://localhost:8080/",
          "height": 390
        },
        "outputId": "e666d307-b1e8-42e9-8231-4caebe7a3ac7"
      },
      "source": [
        "y= sym.inverse_laplace_transform(H*(1/S), S, t)\n",
        "sym.plot(y.subs(RLC), (t,0,12), ylabel=r'y(t)');\n"
      ],
      "execution_count": null,
      "outputs": [
        {
          "output_type": "stream",
          "text": [
            "/usr/local/lib/python3.6/dist-packages/sympy/plotting/plot.py:890: MatplotlibDeprecationWarning: \n",
            "The set_smart_bounds function was deprecated in Matplotlib 3.2 and will be removed two minor releases later.\n",
            "  self.ax.spines['left'].set_smart_bounds(True)\n",
            "/usr/local/lib/python3.6/dist-packages/sympy/plotting/plot.py:891: MatplotlibDeprecationWarning: \n",
            "The set_smart_bounds function was deprecated in Matplotlib 3.2 and will be removed two minor releases later.\n",
            "  self.ax.spines['bottom'].set_smart_bounds(False)\n"
          ],
          "name": "stderr"
        },
        {
          "output_type": "display_data",
          "data": {
            "image/png": "[encoded data removed]",
            "text/plain": [
              "<Figure size 432x288 with 1 Axes>"
            ]
          },
          "metadata": {
            "tags": [],
            "needs_background": "light"
          }
        }
      ]
    },
    {
      "cell_type": "markdown",
      "metadata": {
        "id": "iSZolFgTJtYR",
        "colab_type": "text"
      },
      "source": [
        "#3. Rampa\n",
        "$x(t)=t$"
      ]
    },
    {
      "cell_type": "code",
      "metadata": {
        "id": "hS8aoxy8JuIh",
        "colab_type": "code",
        "colab": {
          "base_uri": "https://localhost:8080/",
          "height": 40
        },
        "outputId": "eb0ba5d7-d395-4f6b-eef3-335ddef614e3"
      },
      "source": [
        "sym.inverse_laplace_transform(H*(1/S**2), S, t)"
      ],
      "execution_count": null,
      "outputs": [
        {
          "output_type": "execute_result",
          "data": {
            "image/png": "[encoded data removed]",
            "text/latex": "$$\\frac{t^{2}}{2 L}$$",
            "text/plain": [
              "  2\n",
              " t \n",
              "───\n",
              "2⋅L"
            ]
          },
          "metadata": {
            "tags": []
          },
          "execution_count": 28
        }
      ]
    },
    {
      "cell_type": "code",
      "metadata": {
        "id": "sR0OF1QPJ0rZ",
        "colab_type": "code",
        "colab": {
          "base_uri": "https://localhost:8080/",
          "height": 390
        },
        "outputId": "5f1f22fa-6d28-426f-f82e-f3d2d51c1ced"
      },
      "source": [
        "y= sym.inverse_laplace_transform(H*(1/S**2), S, t)\n",
        "sym.plot(y.subs(RLC), (t,0,12), ylabel=r'y(t)');\n",
        "\n"
      ],
      "execution_count": null,
      "outputs": [
        {
          "output_type": "stream",
          "text": [
            "/usr/local/lib/python3.6/dist-packages/sympy/plotting/plot.py:890: MatplotlibDeprecationWarning: \n",
            "The set_smart_bounds function was deprecated in Matplotlib 3.2 and will be removed two minor releases later.\n",
            "  self.ax.spines['left'].set_smart_bounds(True)\n",
            "/usr/local/lib/python3.6/dist-packages/sympy/plotting/plot.py:891: MatplotlibDeprecationWarning: \n",
            "The set_smart_bounds function was deprecated in Matplotlib 3.2 and will be removed two minor releases later.\n",
            "  self.ax.spines['bottom'].set_smart_bounds(False)\n"
          ],
          "name": "stderr"
        },
        {
          "output_type": "display_data",
          "data": {
            "image/png": "[encoded data removed]",
            "text/plain": [
              "<Figure size 432x288 with 1 Axes>"
            ]
          },
          "metadata": {
            "tags": [],
            "needs_background": "light"
          }
        }
      ]
    },
    {
      "cell_type": "markdown",
      "metadata": {
        "id": "-bE2rCr4KMj5",
        "colab_type": "text"
      },
      "source": [
        "$3.5$ Consulte en que consiste un sistema subamortiguado, sobreamortiguado,\n",
        "y de amortiguamiento crítico. Genere simulaciones\n",
        "para ejemplificar cada uno de los casos con los sistemas\n",
        "R,L,C serie y paralelo estudiados. Nota: asuma condiciones\n",
        "iniciales cero.\n"
      ]
    },
    {
      "cell_type": "code",
      "metadata": {
        "id": "Tvpx90OvLmxt",
        "colab_type": "code",
        "colab": {
          "base_uri": "https://localhost:8080/",
          "height": 303
        },
        "outputId": "09b1cb07-7b6c-4ef0-93c2-08366d923133"
      },
      "source": [
        "%matplotlib inline\n",
        "import matplotlib as mpl\n",
        "import matplotlib.pyplot as plt\n",
        "import numpy as np\n",
        "import warnings\n",
        "warnings.filterwarnings(\"ignore\")\n",
        "\n",
        "mpl.rc('axes', labelsize=14)\n",
        "mpl.rc('xtick', labelsize=12)\n",
        "mpl.rc('ytick', labelsize=12)\n",
        "\n",
        "T = 20 \n",
        "Fs = 1000 \n",
        "Nm = T*Fs \n",
        "tv = np.linspace(0,T/2,Nm)\n",
        "\n",
        "L=8*(10**(-7))\n",
        "C=0.1*(10**(-7))\n",
        "R=15\n",
        "k=1\n",
        "wn= (1/L*C)**(1/2)\n",
        "zeta= (R/2)*((C/L)**(1/2))\n",
        "wd= (1/L*C *(1-(R**2)/4)*C/L)**(1/2)\n",
        "#Caso 1 subamortiguado 0<zeta<1\n",
        "yt= 1- (np.exp(-zeta*wn*tv)/(1-zeta**2)**(1/2))*np.sin(wd*tv+ np.arctan((1-zeta**2)**(1/2)/zeta))\n",
        "\n",
        "\n",
        "plt.plot(tv,yt,'r',linewidth=4)\n",
        "plt.grid()\n",
        "plt.xlabel(\"t[s]\",fontsize = 14)\n",
        "plt.ylabel(\"y(t)\",fontsize = 14)\n"
      ],
      "execution_count": null,
      "outputs": [
        {
          "output_type": "execute_result",
          "data": {
            "text/plain": [
              "Text(0, 0.5, 'y(t)')"
            ]
          },
          "metadata": {
            "tags": []
          },
          "execution_count": 31
        },
        {
          "output_type": "display_data",
          "data": {
            "image/png": "[encoded data removed]",
            "text/plain": [
              "<Figure size 432x288 with 1 Axes>"
            ]
          },
          "metadata": {
            "tags": [],
            "needs_background": "light"
          }
        }
      ]
    },
    {
      "cell_type": "code",
      "metadata": {
        "id": "uIy4GNckL11h",
        "colab_type": "code",
        "colab": {
          "base_uri": "https://localhost:8080/",
          "height": 303
        },
        "outputId": "9e400f02-de4a-4ebd-c4e6-6832ee4b2969"
      },
      "source": [
        "#Caso 2 amortiguamiento critico zeta=1\n",
        "L=10*(10**(-7))\n",
        "C=0.4*(10**(-7))\n",
        "R=10\n",
        "k=1\n",
        "wn= (1/L*C)**(1/2)\n",
        "zeta= (R/2)*((C/L)**(1/2))\n",
        "wd= (1/L*C *(1-(R**2)/4)*C/L)**(1/2)\n",
        "\n",
        "yt= 1- np.exp(-wn*tv)*(1+wn*tv)\n",
        "\n",
        "plt.plot(tv,yt,'r',linewidth=4)\n",
        "plt.grid()\n",
        "plt.xlabel(\"t[s]\",fontsize = 14)\n",
        "plt.ylabel(\"y(t)\",fontsize = 14)\n"
      ],
      "execution_count": null,
      "outputs": [
        {
          "output_type": "execute_result",
          "data": {
            "text/plain": [
              "Text(0, 0.5, 'y(t)')"
            ]
          },
          "metadata": {
            "tags": []
          },
          "execution_count": 32
        },
        {
          "output_type": "display_data",
          "data": {
            "image/png": "[encoded data removed]",
            "text/plain": [
              "<Figure size 432x288 with 1 Axes>"
            ]
          },
          "metadata": {
            "tags": [],
            "needs_background": "light"
          }
        }
      ]
    },
    {
      "cell_type": "code",
      "metadata": {
        "id": "a6F7r6hwMWrm",
        "colab_type": "code",
        "colab": {
          "base_uri": "https://localhost:8080/",
          "height": 303
        },
        "outputId": "32da1e9e-09f9-46c7-f3ab-ea024c35a350"
      },
      "source": [
        "#Caso 3 sobreamortiguado zeta>1\n",
        "L=15*(10**(-7))\n",
        "C=2*(10**(-7))\n",
        "R=10\n",
        "k=1\n",
        "wn= (1/L*C)**(1/2)\n",
        "zeta= (R/2)*((C/L)**(1/2))\n",
        "wd= (1/L*C *(1-(R**2)/4)*C/L)**(1/2)\n",
        "\n",
        "yt= 1+ (1/2*((zeta**2 -1)**(1/2))*(zeta+(zeta**2 -1)**(1/2)) )*np.exp(-(zeta+(zeta**2 -1)**(1/2))*wn*tv)- (1/2*((zeta**2 -1)**(1/2))*(zeta-(zeta**2 -1)**(1/2)) )*np.exp(-(zeta+(zeta**2 -1)**(1/2))*wn*tv)\n",
        "\n",
        "plt.plot(tv,yt,'r',linewidth=4)\n",
        "plt.grid()\n",
        "plt.xlabel(\"t[s]\",fontsize = 14)\n",
        "plt.ylabel(\"y(t)\",fontsize = 14)"
      ],
      "execution_count": null,
      "outputs": [
        {
          "output_type": "execute_result",
          "data": {
            "text/plain": [
              "Text(0, 0.5, 'y(t)')"
            ]
          },
          "metadata": {
            "tags": []
          },
          "execution_count": 33
        },
        {
          "output_type": "display_data",
          "data": {
            "image/png": "[encoded data removed]",
            "text/plain": [
              "<Figure size 432x288 with 1 Axes>"
            ]
          },
          "metadata": {
            "tags": [],
            "needs_background": "light"
          }
        }
      ]
    },
    {
      "cell_type": "markdown",
      "metadata": {
        "id": "_NB-05udSewy",
        "colab_type": "text"
      },
      "source": [
        "la respuesta natural depende de los valores del factor de amortiguamiento y frecuencia de resonancia."
      ]
    },
    {
      "cell_type": "code",
      "metadata": {
        "id": "L7H0UWtCUCf2",
        "colab_type": "code",
        "colab": {}
      },
      "source": [
        "%matplotlib inline\n",
        "import matplotlib as mpl\n",
        "import matplotlib.pyplot as plt\n",
        "import numpy as np\n",
        "import warnings\n",
        "from sympy import exp, sin,cos\n",
        "warnings.filterwarnings(\"ignore\")\n",
        "\n",
        "mpl.rc('axes', labelsize=14)\n",
        "mpl.rc('xtick', labelsize=12)\n",
        "mpl.rc('ytick', labelsize=12)\n",
        "\n",
        "t = sym.symbols('t', real=True)\n",
        "R, L, C = sym.symbols(' R L C', positive=True)\n",
        "L=8*(10**(-7))\n",
        "C=0.1*(10**(-7))\n",
        "R=15\n",
        "k=1\n",
        "wn= (1/L*C)**(1/2)\n",
        "zeta= R/(L*C)**(1/2)\n",
        "#zeta= 1/(2*R*C)\n",
        "#zeta= (R/2)*((C/L)**(1/2))\n",
        "wd= (wn**2 - zeta**2)**(1/2)\n",
        "s1= -zeta+(wn**2 - zeta**2)**(1/2)\n",
        "#s1= -1/(2*R*C) + ((1/(2*R*C))**2 - 1/(L*C))**(1/2)\n",
        "s2= -zeta-(wn**2 - zeta**2)**(1/2)\n",
        "#s2= -1/(2*R*C) - ((1/(2*R*C))**2 - 1/(L*C))**(1/2)\n",
        "#Caso 1 subamortiguado 0<zeta<1\n",
        "A1= 4\n",
        "A2=2\n",
        "B1=1\n",
        "B2=2\n",
        "D1= 1\n",
        "D2= 2\n",
        "exponencial= -zeta*t\n",
        "angulo= wd*t\n",
        "euler= exp(exponencial)\n",
        "seno= sin(angulo)\n",
        "coseno= cos(angulo)\n",
        "#yt= B1*euler*coseno+ B2*euler*seno\n",
        "#yt= D1*t*np.exp(-zeta*t)+ D2*np.exp(-zeta*t)\n",
        "\n"
      ],
      "execution_count": null,
      "outputs": []
    },
    {
      "cell_type": "code",
      "metadata": {
        "id": "mQb0ceiCY19q",
        "colab_type": "code",
        "colab": {
          "base_uri": "https://localhost:8080/",
          "height": 60
        },
        "outputId": "5c739b1d-5c4c-4959-80a4-0f105eea534d"
      },
      "source": [
        "#yt= A1*exp(s1*t)+ A2*exp(s2*t)\n",
        "\n",
        "yt= B1*euler*coseno+B2*euler*seno\n",
        "yt\n",
        "#sym.plot(yt, (t,-2,0), ylabel=r'y(t)');\n"
      ],
      "execution_count": null,
      "outputs": [
        {
          "output_type": "execute_result",
          "data": {
            "image/png": "[encoded data removed]",
            "text/latex": "$$2 e^{- 167705098.312484 t} \\sin{\\left (t \\left(1.02689755924538 \\cdot 10^{-8} + 167705098.312484 i\\right) \\right )} + e^{- 167705098.312484 t} \\cos{\\left (t \\left(1.02689755924538 \\cdot 10^{-8} + 167705098.312484 i\\right) \\right )}$$",
            "text/plain": [
              "   -167705098.312484⋅t                                                      -1\n",
              "2⋅ℯ                   ⋅sin(t⋅(1.02689755924538e-8 + 167705098.312484⋅ⅈ)) + ℯ  \n",
              "\n",
              "67705098.312484⋅t                                                  \n",
              "                 ⋅cos(t⋅(1.02689755924538e-8 + 167705098.312484⋅ⅈ))"
            ]
          },
          "metadata": {
            "tags": []
          },
          "execution_count": 150
        }
      ]
    },
    {
      "cell_type": "code",
      "metadata": {
        "id": "nLR0PuwmuWgX",
        "colab_type": "code",
        "colab": {}
      },
      "source": [
        ""
      ],
      "execution_count": null,
      "outputs": []
    }
  ]
}